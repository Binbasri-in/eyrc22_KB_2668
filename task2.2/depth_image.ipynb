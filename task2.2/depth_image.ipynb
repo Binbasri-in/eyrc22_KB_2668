{
 "cells": [
  {
   "cell_type": "markdown",
   "metadata": {},
   "source": [
    "the shape of depth image and color image is different\n",
    "for all data\n",
    "color image shape: (720, 1280, 3)\n",
    "depth image shape: (480, 848)\n"
   ]
  },
  {
   "cell_type": "code",
   "execution_count": null,
   "metadata": {},
   "outputs": [],
   "source": [
    "# code to convert ros depth image to cv2 image and save it\n",
    "import rospy\n",
    "from cv_bridge import CvBridge, CvBridgeError\n",
    "from sensor_msgs.msg import Image\n",
    "import numpy as np\n",
    "import cv2\n",
    "\n",
    "def convert_depth_image(ros_image):\n",
    "    cv_bridge = CvBridge()\n",
    "    try:\n",
    "        depth_image = cv_bridge.imgmsg_to_cv2(ros_image, desired_encoding='passthrough')\n",
    "    except CvBridgeError, e:\n",
    "        print e\n",
    "    depth_array = np.array(depth_image, dtype=np.float32)\n",
    "    np.save(\"depth_img.npy\", depth_array)\n",
    "    rospy.loginfo(depth_array)\n",
    "    #To save image as png\n",
    "    # Apply colormap on depth image (image must be converted to 8-bit per pixel first)\n",
    "    depth_colormap = cv2.applyColorMap(cv2.convertScaleAbs(depth_image, alpha=0.03), cv2.COLORMAP_JET)\n",
    "    cv2.imwrite(\"depth_img.png\", depth_colormap)\n",
    "    #Or you use \n",
    "    # depth_array = depth_array.astype(np.uint16)\n",
    "    # cv2.imwrite(\"depth_img.png\", depth_array)\n",
    "\n",
    "\n",
    "def pixel2depth():\n",
    "    rospy.init_node('pixel2depth',anonymous=True)\n",
    "    rospy.Subscriber(\"/pepper/camera/depth/image_raw\", Image,callback=convert_depth_image, queue_size=1)\n",
    "    rospy.spin()\n",
    "\n",
    "if __name__ == '__main__':\n",
    "    pixel2depth()"
   ]
  },
  {
   "cell_type": "code",
   "execution_count": null,
   "metadata": {},
   "outputs": [],
   "source": [
    "# try different encoding\n",
    "# https://answers.ros.org/question/209000/convert-ros-image-to-opencv-image/\n",
    "#cv2_img = bridge.imgmsg_to_cv2(msg, '32FC1')"
   ]
  },
  {
   "cell_type": "code",
   "execution_count": null,
   "metadata": {},
   "outputs": [],
   "source": [
    "def Depthcallback(self,msg_depth): # TODO still too noisy!\n",
    "try:\n",
    "  # The depth image is a single-channel float32 image\n",
    "  # the values is the distance in mm in z axis\n",
    "  cv_image = self.bridge.imgmsg_to_cv2(msg_depth, \"32FC1\")\n",
    "  # Convert the depth image to a Numpy array since most cv2 functions\n",
    "  # require Numpy arrays.\n",
    "  cv_image_array = np.array(cv_image, dtype = np.dtype('f8'))\n",
    "  # Normalize the depth image to fall between 0 (black) and 1 (white)\n",
    "  # http://docs.ros.org/electric/api/rosbag_video/html/bag__to__video_8cpp_source.html lines 95-125\n",
    "  cv_image_norm = cv2.normalize(cv_image_array, cv_image_array, 0, 1, cv2.NORM_MINMAX)\n",
    "  # Resize to the desired size\n",
    "  cv_image_resized = cv2.resize(cv_image_norm, self.desired_shape, interpolation = cv2.INTER_CUBIC)\n",
    "  self.depthimg = cv_image_resized\n",
    "  cv2.imshow(\"Image from my node\", self.depthimg)\n",
    "  cv2.waitKey(1)\n",
    "except CvBridgeError as e:\n",
    "  print(e)"
   ]
  }
 ],
 "metadata": {
  "kernelspec": {
   "display_name": "Python 3.10.7 64-bit",
   "language": "python",
   "name": "python3"
  },
  "language_info": {
   "name": "python",
   "version": "3.10.7"
  },
  "orig_nbformat": 4,
  "vscode": {
   "interpreter": {
    "hash": "369f2c481f4da34e4445cda3fffd2e751bd1c4d706f27375911949ba6bb62e1c"
   }
  }
 },
 "nbformat": 4,
 "nbformat_minor": 2
}
